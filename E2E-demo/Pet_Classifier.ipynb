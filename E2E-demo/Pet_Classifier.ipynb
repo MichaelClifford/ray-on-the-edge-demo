{
 "cells": [
  {
   "cell_type": "code",
   "execution_count": 1,
   "id": "7091d97e-22d2-4ae2-a006-b41f7f48f3cc",
   "metadata": {},
   "outputs": [],
   "source": [
    "#https://docs.ray.io/en/latest/train/examples/train_fashion_mnist_example.html"
   ]
  },
  {
   "cell_type": "code",
   "execution_count": 2,
   "id": "19004e51-c772-453f-9344-004a5ad3425e",
   "metadata": {},
   "outputs": [
    {
     "name": "stdout",
     "output_type": "stream",
     "text": [
      "Exception reporting mode: Minimal\n"
     ]
    }
   ],
   "source": [
    "%xmode Minimal"
   ]
  },
  {
   "cell_type": "code",
   "execution_count": 3,
   "id": "f462ad35-dfca-45c5-850a-41971da6574d",
   "metadata": {},
   "outputs": [
    {
     "name": "stderr",
     "output_type": "stream",
     "text": [
      "Python-dotenv could not parse statement starting at line 4\n"
     ]
    }
   ],
   "source": [
    "import os\n",
    "import glob\n",
    "import random\n",
    "import numpy as np\n",
    "import pandas as pd\n",
    "\n",
    "import torch\n",
    "import torch.nn as nn\n",
    "import torch.optim as optim\n",
    "from torch.nn.modules.utils import consume_prefix_in_state_dict_if_present\n",
    "#import torch.nn.functional as F\n",
    "import torchvision\n",
    "from torchvision.transforms import ToTensor, Resize,Compose, ToPILImage\n",
    "\n",
    "from sklearn.metrics import classification_report, confusion_matrix\n",
    "\n",
    "import ray\n",
    "from ray import train\n",
    "from ray.air import session, Checkpoint\n",
    "from ray.air.config import ScalingConfig\n",
    "from ray.train.torch import TorchCheckpoint, TorchTrainer\n",
    "\n",
    "from ray.data.datasource import SimpleTorchDatasource\n",
    "from ray.data.preprocessors import Concatenator, Chain, StandardScaler\n",
    "\n",
    "from ray import tune\n",
    "from ray.tune .tuner import Tuner, TuneConfig\n",
    "from ray.air.config import RunConfig\n",
    "\n",
    "import matplotlib.pyplot as plt\n",
    "\n",
    "from ray_cluster_control import start_ray_cluster, stop_ray_cluster"
   ]
  },
  {
   "cell_type": "code",
   "execution_count": null,
   "id": "4a964830-20ac-495d-bde2-7789058b40e6",
   "metadata": {},
   "outputs": [],
   "source": [
    "start_ray_cluster()"
   ]
  },
  {
   "cell_type": "code",
   "execution_count": null,
   "id": "12c98cef-f712-460a-a012-e49c07c9bff6",
   "metadata": {},
   "outputs": [],
   "source": [
    "ray.init('ray://{ray_head}-ray-head:10001'.format(ray_head=os.environ['RAY_CLUSTER_NAME']))"
   ]
  },
  {
   "cell_type": "code",
   "execution_count": 6,
   "id": "1bc51cd1-8164-4ffb-ab5b-95ba6ce5fa58",
   "metadata": {},
   "outputs": [],
   "source": [
    "transforms = Compose([Resize((64,64)),ToTensor()])"
   ]
  },
  {
   "cell_type": "code",
   "execution_count": 7,
   "id": "3e87c2b0-65b2-4826-8f33-372cd777589f",
   "metadata": {},
   "outputs": [],
   "source": [
    "pet_data = torchvision.datasets.OxfordIIITPet(\"data/\",download = True ,  target_types = \"category\", transform = transforms, split = \"trainval\")"
   ]
  },
  {
   "cell_type": "code",
   "execution_count": 8,
   "id": "7b594110-b434-4fb9-af1f-eec6a72bc8e4",
   "metadata": {},
   "outputs": [],
   "source": [
    "data_loader = torch.utils.data.DataLoader(pet_data, batch_size=4, shuffle=True)"
   ]
  },
  {
   "cell_type": "markdown",
   "id": "643d38dc-8c47-4bad-914a-848d7253e278",
   "metadata": {},
   "source": [
    "This data set is only 3K and not the full 7k since we read in dataset with the `split` parameters that pulls in the files based on the corresponding txt file in `data/data/oxford-iiit-pet/annotations`"
   ]
  },
  {
   "cell_type": "code",
   "execution_count": 9,
   "id": "46b71da9-eee0-4d73-a66f-627ea21ff703",
   "metadata": {},
   "outputs": [
    {
     "data": {
      "text/plain": [
       "3680"
      ]
     },
     "execution_count": 9,
     "metadata": {},
     "output_type": "execute_result"
    }
   ],
   "source": [
    "len(pet_data)"
   ]
  },
  {
   "cell_type": "code",
   "execution_count": 10,
   "id": "3d6556aa-a289-4362-b1f3-cd6b475bed86",
   "metadata": {},
   "outputs": [
    {
     "name": "stdout",
     "output_type": "stream",
     "text": [
      "cpu\n"
     ]
    }
   ],
   "source": [
    "device = torch.device(\"cuda:0\" if torch.cuda.is_available() else \"cpu\")\n",
    "print(device)\n",
    "device = \"cpu\""
   ]
  },
  {
   "cell_type": "code",
   "execution_count": 11,
   "id": "3fca7583-31d4-4810-b7eb-ae9e950aa069",
   "metadata": {},
   "outputs": [
    {
     "name": "stdout",
     "output_type": "stream",
     "text": [
      "Feature batch shape: torch.Size([4, 3, 64, 64])\n",
      "Labels batch shape: torch.Size([4])\n"
     ]
    },
    {
     "data": {
      "image/png": "[encoded data removed]",
      "text/plain": [
       "<PIL.Image.Image image mode=RGB size=64x64>"
      ]
     },
     "metadata": {},
     "output_type": "display_data"
    },
    {
     "name": "stdout",
     "output_type": "stream",
     "text": [
      "label:18\n"
     ]
    }
   ],
   "source": [
    "train_features, train_labels = next(iter(data_loader))\n",
    "print(f\"Feature batch shape: {train_features.size()}\")\n",
    "print(f\"Labels batch shape: {train_labels.size()}\")\n",
    "make = ToPILImage()\n",
    "make(train_features[0]).show()\n",
    "print(f'label:{train_labels[0]}')"
   ]
  },
  {
   "cell_type": "code",
   "execution_count": 12,
   "id": "edcbd5f0-f556-4ef2-a32f-51a8710cef5f",
   "metadata": {},
   "outputs": [],
   "source": [
    "def ConvNet():\n",
    "    return nn.Sequential(\n",
    "        nn.Conv2d(3, 16, 3, 1),\n",
    "        nn.MaxPool2d(2, 2),\n",
    "        nn.Conv2d(16, 32, 3,1 ),\n",
    "        nn.MaxPool2d(2, 2),\n",
    "        nn.Flatten(),\n",
    "        nn.Linear(6272 , 128),\n",
    "        nn.ReLU(),\n",
    "        nn.Linear(128, 64),\n",
    "        nn.ReLU(),\n",
    "        nn.Linear(64, 37)\n",
    "    )"
   ]
  },
  {
   "cell_type": "code",
   "execution_count": 13,
   "id": "9ab90031-d1d3-4b6f-8196-e6b763e12a9a",
   "metadata": {},
   "outputs": [
    {
     "data": {
      "text/plain": [
       "Sequential(\n",
       "  (0): Conv2d(3, 16, kernel_size=(3, 3), stride=(1, 1))\n",
       "  (1): MaxPool2d(kernel_size=2, stride=2, padding=0, dilation=1, ceil_mode=False)\n",
       "  (2): Conv2d(16, 32, kernel_size=(3, 3), stride=(1, 1))\n",
       "  (3): MaxPool2d(kernel_size=2, stride=2, padding=0, dilation=1, ceil_mode=False)\n",
       "  (4): Flatten(start_dim=1, end_dim=-1)\n",
       "  (5): Linear(in_features=6272, out_features=128, bias=True)\n",
       "  (6): ReLU()\n",
       "  (7): Linear(in_features=128, out_features=64, bias=True)\n",
       "  (8): ReLU()\n",
       "  (9): Linear(in_features=64, out_features=37, bias=True)\n",
       ")"
      ]
     },
     "execution_count": 13,
     "metadata": {},
     "output_type": "execute_result"
    }
   ],
   "source": [
    "net = ConvNet()\n",
    "net.to(device)"
   ]
  },
  {
   "cell_type": "code",
   "execution_count": 14,
   "id": "1a087b70-4b2e-45c3-8bb6-30f1724b3f7b",
   "metadata": {},
   "outputs": [],
   "source": [
    "criterion = nn.CrossEntropyLoss()\n",
    "optimizer = optim.SGD(net.parameters(), lr=0.001, momentum=0.9)"
   ]
  },
  {
   "cell_type": "code",
   "execution_count": 15,
   "id": "6f342828-9af0-4be7-ad81-a2cbc833f039",
   "metadata": {},
   "outputs": [],
   "source": [
    "def train_x(model, device, train_loader, optimizer, epoch):\n",
    "    model.train()\n",
    "    for batch_idx, (data, target) in enumerate(train_loader):\n",
    "        data, target = data.to(device), target.to(device)\n",
    "        optimizer.zero_grad()\n",
    "        output = model(data)\n",
    "        loss = criterion(output, target)\n",
    "        loss.backward()\n",
    "        optimizer.step()\n",
    "        if batch_idx % 1000 == 0:\n",
    "            print('Train Epoch: {} [{}/{} ({:.0f}%)]\\tLoss: {:.6f}'.format(\n",
    "                epoch, batch_idx * len(data), len(train_loader.dataset),\n",
    "                100. * batch_idx / len(train_loader), loss.item()))"
   ]
  },
  {
   "cell_type": "code",
   "execution_count": 16,
   "id": "9c984e60-6867-4155-afbf-e1532f8ba71c",
   "metadata": {},
   "outputs": [
    {
     "name": "stdout",
     "output_type": "stream",
     "text": [
      "CPU times: user 2 µs, sys: 1e+03 ns, total: 3 µs\n",
      "Wall time: 5.01 µs\n",
      "Train Epoch: 0 [0/3680 (0%)]\tLoss: 3.608880\n",
      "Train Epoch: 1 [0/3680 (0%)]\tLoss: 3.626914\n",
      "Finished Training\n"
     ]
    }
   ],
   "source": [
    "%time\n",
    "for epoch in range(2):\n",
    "    train_x(net,device,data_loader, optimizer, epoch) \n",
    "    \n",
    "state_dict = net.state_dict()\n",
    "consume_prefix_in_state_dict_if_present(state_dict, \"module.\")        \n",
    "\n",
    "print('Finished Training')"
   ]
  },
  {
   "cell_type": "code",
   "execution_count": 17,
   "id": "f9e48146-7dea-4e47-93ca-4436bcdb1167",
   "metadata": {},
   "outputs": [],
   "source": [
    "model_scripted = torch.jit.script(net)\n",
    "model_scripted.save('model_scripted.pt')"
   ]
  },
  {
   "cell_type": "code",
   "execution_count": 18,
   "id": "14e90ff7-b3f0-4bcc-8488-e09e7839f123",
   "metadata": {},
   "outputs": [],
   "source": [
    "# Now with Ray "
   ]
  },
  {
   "cell_type": "code",
   "execution_count": null,
   "id": "15475bd5-e2f1-4a9b-894e-f7e238a72928",
   "metadata": {},
   "outputs": [],
   "source": [
    "dataset_factory = lambda: torchvision.datasets.OxfordIIITPet(\"data/\", download = True, target_types = \"category\", transform = transforms, split = \"trainval\")\n",
    "dataset = ray.data.read_datasource(\n",
    "    SimpleTorchDatasource(), parallelism=1, dataset_factory=dataset_factory\n",
    ")"
   ]
  },
  {
   "cell_type": "code",
   "execution_count": null,
   "id": "4cf435f6-d9b2-487b-8e23-1af3e3259610",
   "metadata": {},
   "outputs": [],
   "source": [
    "train_dataset, valid_dataset = dataset.train_test_split(test_size=0.5, shuffle=True)"
   ]
  },
  {
   "cell_type": "code",
   "execution_count": 21,
   "id": "9f6c5c42-ece5-4198-8eb3-970d2d0e0e26",
   "metadata": {},
   "outputs": [],
   "source": [
    "def train_epoch(dataloader, model, loss_fn, optim):\n",
    "    model.train()\n",
    "    model.to(\"cuda\")\n",
    "    for batch_idx, data in enumerate(dataloader.iter_batches()):\n",
    "        X = [x[0] for x in data]\n",
    "        X = torch.stack(X)\n",
    "        X = X.to(\"cuda\")\n",
    "        y = [torch.tensor(x[1]) for x in data]\n",
    "        y = torch.stack(y)\n",
    "        y = y.to(\"cuda\") \n",
    "        pred = model(X)\n",
    "        loss = loss_fn(pred, y)\n",
    "        \n",
    "        #backprop\n",
    "        optim.zero_grad()\n",
    "        loss.backward()\n",
    "        optim.step()\n",
    "        \n",
    "    return loss.item()"
   ]
  },
  {
   "cell_type": "code",
   "execution_count": 22,
   "id": "3567ad82-a201-47a6-a961-a2a8b029771d",
   "metadata": {},
   "outputs": [],
   "source": [
    "def validate_epoch(dataloader, model, loss_fn):\n",
    "    model.eval()\n",
    "    test_loss, correct = 0, 0\n",
    "    with torch.no_grad():\n",
    "        for data in dataloader.iter_batches():\n",
    "            X = [x[0] for x in data]\n",
    "            X = torch.stack(X)\n",
    "            X = X.to(\"cuda\")\n",
    "            y = [torch.tensor(x[1]) for x in data]\n",
    "            y = torch.stack(y)\n",
    "            y = y.to(\"cuda\")\n",
    "            pred = model(X)\n",
    "            test_loss = loss_fn(pred, y).item()  \n",
    "    \n",
    "    return test_loss\n",
    "            "
   ]
  },
  {
   "cell_type": "code",
   "execution_count": 23,
   "id": "fa741303-79e6-4cfe-9813-9d58dbc5e99f",
   "metadata": {},
   "outputs": [],
   "source": [
    "def train_loop_per_worker(config):\n",
    "    batch_size = config[\"batch_size\"]\n",
    "    lr = config[\"lr\"]\n",
    "    epochs = config[\"epochs\"]\n",
    "    momentum = config[\"momentum\"]\n",
    "    tune_run = config[\"tune_run\"]\n",
    "    \n",
    "    \n",
    "    train_dataloader = train.get_dataset_shard(\"train\")\n",
    "    test_dataloader = train.get_dataset_shard(\"test\")\n",
    "    model = ConvNet()\n",
    "    model = train.torch.prepare_model(model).to(\"cuda\")\n",
    "    loss_fn = nn.CrossEntropyLoss()\n",
    "    optimizer = optim.SGD(model.parameters(), lr=lr,  momentum=momentum)\n",
    "    \n",
    "    loss_results = []\n",
    "    eval_results = []\n",
    "    \n",
    "    for epoch in range(epochs):\n",
    "        loss = train_epoch(train_dataloader, model, loss_fn, optimizer)\n",
    "        val_loss = validate_epoch(test_dataloader, model, loss_fn)\n",
    "        loss_results.append(loss)\n",
    "        eval_results.append(val_loss)\n",
    "        session.report({\"loss\":loss},)\n",
    "    \n",
    "    session.report({\"loss\":loss, \"model\": model,\n",
    "                   \"training_loss\": loss_results,\"eval_loss\": eval_results},\n",
    "                   checkpoint=Checkpoint.from_dict(dict(epoch=epoch, model=model.state_dict())))\n",
    "            \n",
    "    "
   ]
  },
  {
   "cell_type": "code",
   "execution_count": 24,
   "id": "d99d05b2-7ea7-4cbb-985b-375f60881955",
   "metadata": {},
   "outputs": [],
   "source": [
    "trainer = TorchTrainer(\n",
    "    train_loop_per_worker=train_loop_per_worker,\n",
    "    train_loop_config = {\n",
    "    \"batch_size\": 4,\n",
    "    \"epochs\": 100,\n",
    "    \"momentum\": 0.9,\n",
    "    \"lr\": 0.001,\n",
    "    \"tune_run\": False    \n",
    "        \n",
    "    },\n",
    "    scaling_config = ScalingConfig(\n",
    "    num_workers = 1,\n",
    "    use_gpu = True,\n",
    "    trainer_resources = {\"CPU\":1}),\n",
    "    run_config = RunConfig(\n",
    "        name = \"test_run\",\n",
    "        local_dir = \"./\",\n",
    "        sync_config = tune.SyncConfig(syncer=None)),\n",
    "    datasets = {\"train\": train_dataset,\n",
    "               \"test\":valid_dataset},\n",
    "    )"
   ]
  },
  {
   "cell_type": "code",
   "execution_count": null,
   "id": "9a6554d0-6865-4ff7-8c10-b41c6ba63715",
   "metadata": {},
   "outputs": [],
   "source": [
    "result = trainer.fit()"
   ]
  },
  {
   "cell_type": "code",
   "execution_count": 26,
   "id": "189ba8e3-b572-492b-a8fd-89a6c4fac0b4",
   "metadata": {},
   "outputs": [
    {
     "data": {
      "image/png": "[encoded data removed]",
      "text/plain": [
       "<Figure size 640x480 with 1 Axes>"
      ]
     },
     "metadata": {},
     "output_type": "display_data"
    }
   ],
   "source": [
    "plt.plot(result.metrics[\"training_loss\"])\n",
    "plt.plot(result.metrics[\"eval_loss\"])\n",
    "plt.show()"
   ]
  },
  {
   "cell_type": "code",
   "execution_count": 27,
   "id": "1fb38b1d-561f-419a-b27f-207ae9971ec5",
   "metadata": {},
   "outputs": [],
   "source": [
    "model = result.metrics['model']\n",
    "model_scripted = torch.jit.script(model)\n",
    "model_scripted.save(\"models/trained_model.pt\")"
   ]
  },
  {
   "cell_type": "code",
   "execution_count": 28,
   "id": "95bcfcbd-4810-4960-b459-35244606ec50",
   "metadata": {},
   "outputs": [],
   "source": [
    "# Tune! "
   ]
  },
  {
   "cell_type": "code",
   "execution_count": 29,
   "id": "331c4ae1-d3b3-4652-8aa6-5981be8c07d6",
   "metadata": {},
   "outputs": [],
   "source": [
    "# Define a search space.\n",
    "search_space = {\"train_loop_config\": \n",
    "    {\"lr\": tune.grid_search([0.001, 0.1]),\n",
    "    \"momentum\": tune.grid_search([0.1, 0.9]),\n",
    "    \"batch_size\": tune.grid_search([4]), \n",
    "    \"epochs\": tune.grid_search([300]),\n",
    "    \"tune_run\": tune.grid_search([True])}\n",
    "}\n",
    "\n",
    "metric = \"loss\""
   ]
  },
  {
   "cell_type": "code",
   "execution_count": 30,
   "id": "bfa12c57-a60a-422e-b597-635eb082622c",
   "metadata": {},
   "outputs": [],
   "source": [
    "tuner = Tuner(trainer,\n",
    "              param_space=search_space,\n",
    "              tune_config=TuneConfig(num_samples=1, metric=metric, mode=\"min\"),\n",
    "             )"
   ]
  },
  {
   "cell_type": "code",
   "execution_count": null,
   "id": "2ee5ab36-d3f3-434b-9b94-20e3e043b975",
   "metadata": {},
   "outputs": [],
   "source": [
    "result_grid = tuner.fit()"
   ]
  },
  {
   "cell_type": "code",
   "execution_count": 32,
   "id": "fa6e0ef6-0e23-4e95-b382-8eec8e995c97",
   "metadata": {},
   "outputs": [],
   "source": [
    "best_result = result_grid.get_best_result()\n",
    "best_model = best_result.metrics[\"model\"]\n",
    "model_scripted = torch.jit.script(best_model)\n",
    "model_scripted.save('models/best_model_scripted.pt')"
   ]
  },
  {
   "cell_type": "code",
   "execution_count": 33,
   "id": "ff6893b8-d5ed-4822-a175-baca00e4defc",
   "metadata": {},
   "outputs": [
    {
     "data": {
      "image/png": "[encoded data removed]",
      "text/plain": [
       "<Figure size 640x480 with 1 Axes>"
      ]
     },
     "metadata": {},
     "output_type": "display_data"
    }
   ],
   "source": [
    "plt.plot(best_result.metrics[\"training_loss\"])\n",
    "plt.plot(best_result.metrics[\"eval_loss\"])\n",
    "plt.show()"
   ]
  },
  {
   "cell_type": "code",
   "execution_count": 34,
   "id": "8c79cdfe-76ec-4353-acb2-63f26146fc6f",
   "metadata": {},
   "outputs": [
    {
     "data": {
      "text/plain": [
       "RecursiveScriptModule(\n",
       "  original_name=Sequential\n",
       "  (0): RecursiveScriptModule(original_name=Conv2d)\n",
       "  (1): RecursiveScriptModule(original_name=MaxPool2d)\n",
       "  (2): RecursiveScriptModule(original_name=Conv2d)\n",
       "  (3): RecursiveScriptModule(original_name=MaxPool2d)\n",
       "  (4): RecursiveScriptModule(original_name=Flatten)\n",
       "  (5): RecursiveScriptModule(original_name=Linear)\n",
       "  (6): RecursiveScriptModule(original_name=ReLU)\n",
       "  (7): RecursiveScriptModule(original_name=Linear)\n",
       "  (8): RecursiveScriptModule(original_name=ReLU)\n",
       "  (9): RecursiveScriptModule(original_name=Linear)\n",
       ")"
      ]
     },
     "execution_count": 34,
     "metadata": {},
     "output_type": "execute_result"
    }
   ],
   "source": [
    "model = torch.jit.load(\"models/best_model_scripted.pt\") \n",
    "model.eval()"
   ]
  },
  {
   "cell_type": "code",
   "execution_count": 35,
   "id": "2c587d6b-2c52-4e7b-b1f5-71ab89c74cb0",
   "metadata": {},
   "outputs": [
    {
     "data": {
      "image/png": "[encoded data removed]",
      "text/plain": [
       "<PIL.Image.Image image mode=RGB size=64x64>"
      ]
     },
     "metadata": {},
     "output_type": "display_data"
    },
    {
     "name": "stdout",
     "output_type": "stream",
     "text": [
      "label:30\n",
      "prediction: 30\n"
     ]
    }
   ],
   "source": [
    "train_features, train_labels = next(iter(data_loader))\n",
    "make = ToPILImage()\n",
    "make(train_features[0]).show()\n",
    "print(f'label:{train_labels[0]}')\n",
    "logits = model(train_features[0].reshape(1,3,64,64).to(device))\n",
    "print(f\"prediction: {torch.argmax(logits).item()}\")"
   ]
  },
  {
   "cell_type": "code",
   "execution_count": 36,
   "id": "e2e9df11-84a1-4600-a2fb-e3c614629706",
   "metadata": {},
   "outputs": [],
   "source": [
    "X = []\n",
    "y = []\n",
    "y_pred = []\n",
    "\n",
    "for data in valid_dataset.iter_rows():\n",
    "    X.append(data[0])\n",
    "    y.append(data[1])\n",
    "    logit = model(data[0].reshape(1,3,64,64))\n",
    "    y_pred.append(torch.argmax(logit))"
   ]
  },
  {
   "cell_type": "code",
   "execution_count": 37,
   "id": "e4bea5b8-197b-4c8e-a63a-2b74472889eb",
   "metadata": {},
   "outputs": [
    {
     "name": "stdout",
     "output_type": "stream",
     "text": [
      "              precision    recall  f1-score   support\n",
      "\n",
      "           0       0.08      0.06      0.07        48\n",
      "           1       0.12      0.10      0.11        52\n",
      "           2       0.04      0.06      0.05        48\n",
      "           3       0.12      0.14      0.13        44\n",
      "           4       0.03      0.05      0.04        41\n",
      "           5       0.05      0.04      0.04        52\n",
      "           6       0.11      0.10      0.11        48\n",
      "           7       0.18      0.24      0.21        42\n",
      "           8       0.05      0.03      0.04        62\n",
      "           9       0.07      0.06      0.06        52\n",
      "          10       0.05      0.06      0.06        48\n",
      "          11       0.10      0.13      0.11        46\n",
      "          12       0.06      0.06      0.06        54\n",
      "          13       0.05      0.04      0.04        56\n",
      "          14       0.09      0.09      0.09        54\n",
      "          15       0.09      0.10      0.10        50\n",
      "          16       0.00      0.00      0.00        51\n",
      "          17       0.05      0.04      0.05        45\n",
      "          18       0.10      0.08      0.09        51\n",
      "          19       0.09      0.08      0.08        51\n",
      "          20       0.05      0.07      0.05        44\n",
      "          21       0.06      0.04      0.04        54\n",
      "          22       0.17      0.20      0.18        45\n",
      "          23       0.12      0.08      0.10        49\n",
      "          24       0.00      0.00      0.00        44\n",
      "          25       0.07      0.09      0.08        44\n",
      "          26       0.06      0.06      0.06        47\n",
      "          27       0.12      0.12      0.12        51\n",
      "          28       0.08      0.06      0.07        52\n",
      "          29       0.09      0.13      0.11        46\n",
      "          30       0.15      0.19      0.17        47\n",
      "          31       0.11      0.11      0.11        54\n",
      "          32       0.09      0.05      0.06        62\n",
      "          33       0.03      0.02      0.02        57\n",
      "          34       0.06      0.06      0.06        48\n",
      "          35       0.04      0.04      0.04        53\n",
      "          36       0.09      0.10      0.10        48\n",
      "\n",
      "    accuracy                           0.08      1840\n",
      "   macro avg       0.08      0.08      0.08      1840\n",
      "weighted avg       0.08      0.08      0.08      1840\n",
      "\n"
     ]
    }
   ],
   "source": [
    "print(classification_report(y,y_pred))"
   ]
  },
  {
   "cell_type": "code",
   "execution_count": 38,
   "id": "a89e32c3-4e21-411a-9ded-ff04be4aa456",
   "metadata": {},
   "outputs": [
    {
     "data": {
      "image/png": "[encoded data removed]",
      "text/plain": [
       "<Figure size 640x480 with 1 Axes>"
      ]
     },
     "metadata": {},
     "output_type": "display_data"
    }
   ],
   "source": [
    "plt.imshow(confusion_matrix(y_pred,y), cmap='hot', interpolation='nearest')\n",
    "plt.show()"
   ]
  },
  {
   "cell_type": "code",
   "execution_count": null,
   "id": "c807e572-428a-436e-99d5-a73a19943a04",
   "metadata": {},
   "outputs": [
    {
     "name": "stdout",
     "output_type": "stream",
     "text": [
      "Accuracy: 7.8%\n",
      "Random guess would yield 2.7%\n",
      "Model outperforms Random chance by a factor of 2.90\n"
     ]
    }
   ],
   "source": [
    "print(f\"Accuracy: {np.sum(np.array(y_pred)==np.array(y))/(len(y))*100:.1f}%\")\n",
    "print(f\"Random guess would yield {(1/37)*100:.1f}%\")\n",
    "print(f\"Model outperforms Random chance by a factor of {(np.sum(np.array(y_pred)==np.array(y))/len(y))/(1/37):.2f}\")"
   ]
  },
  {
   "cell_type": "code",
   "execution_count": null,
   "id": "48739528-a5a4-4ba1-b3fa-c8e7ad669bd9",
   "metadata": {},
   "outputs": [],
   "source": [
    "stop_ray_cluster()"
   ]
  }
 ],
 "metadata": {
  "kernelspec": {
   "display_name": "Python 3 (ipykernel)",
   "language": "python",
   "name": "python3"
  },
  "language_info": {
   "codemirror_mode": {
    "name": "ipython",
    "version": 3
   },
   "file_extension": ".py",
   "mimetype": "text/x-python",
   "name": "python",
   "nbconvert_exporter": "python",
   "pygments_lexer": "ipython3",
   "version": "3.8.12"
  }
 },
 "nbformat": 4,
 "nbformat_minor": 5
}
