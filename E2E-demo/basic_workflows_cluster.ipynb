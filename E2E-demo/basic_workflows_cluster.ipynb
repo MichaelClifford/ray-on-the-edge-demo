{
 "cells": [
  {
   "cell_type": "markdown",
   "metadata": {},
   "source": [
    "https://docs.ray.io/en/latest/workflows/index.html"
   ]
  },
  {
   "cell_type": "code",
   "execution_count": 1,
   "metadata": {},
   "outputs": [
    {
     "name": "stderr",
     "output_type": "stream",
     "text": [
      "Python-dotenv could not parse statement starting at line 4\n"
     ]
    }
   ],
   "source": [
    "import os\n",
    "import time\n",
    "import ray\n",
    "from ray import workflow\n",
    "from ray_cluster_control import start_ray_cluster, stop_ray_cluster\n"
   ]
  },
  {
   "cell_type": "code",
   "execution_count": 2,
   "metadata": {},
   "outputs": [
    {
     "name": "stdout",
     "output_type": "stream",
     "text": [
      "RayCluster \"michael\" has started\n",
      "Access your cluster dashboard at http://ray-dashboard-michael-open-data-hub.apps.et-gpu.zfq7.p1.openshiftapps.com\n"
     ]
    }
   ],
   "source": [
    "start_ray_cluster()"
   ]
  },
  {
   "cell_type": "code",
   "execution_count": 3,
   "metadata": {},
   "outputs": [
    {
     "name": "stdout",
     "output_type": "stream",
     "text": [
      "done\n"
     ]
    }
   ],
   "source": [
    "stop_ray_cluster()"
   ]
  },
  {
   "cell_type": "code",
   "execution_count": null,
   "metadata": {},
   "outputs": [],
   "source": [
    "ray_head = os.environ['RAY_CLUSTER_NAME']\n",
    "ray.init(address = f\"ray://{ray_head}-ray-head:10001\")"
   ]
  },
  {
   "cell_type": "code",
   "execution_count": 4,
   "metadata": {},
   "outputs": [],
   "source": [
    "@ray.remote\n",
    "def one() -> int:\n",
    "    return 1\n",
    "\n",
    "@ray.remote\n",
    "def add(a: int, b: int) -> int:\n",
    "    return a + b\n",
    "\n",
    "dag = add.bind(100, one.bind())"
   ]
  },
  {
   "cell_type": "code",
   "execution_count": 5,
   "metadata": {},
   "outputs": [
    {
     "name": "stderr",
     "output_type": "stream",
     "text": [
      "2022-10-11 20:15:25,428\tINFO workflow_access.py:356 -- Initializing workflow manager...\n",
      "2022-10-11 20:15:27,131\tINFO api.py:203 -- Workflow job created. [id=\"run_1\"].\n",
      "\u001b[2m\u001b[36m(WorkflowManagementActor pid=369)\u001b[0m 2022-10-11 20:15:27,161\tINFO workflow_executor.py:86 -- Workflow job [id=run_1] started.\n",
      "\u001b[2m\u001b[36m(WorkflowManagementActor pid=369)\u001b[0m 2022-10-11 20:15:27,169\tINFO workflow_executor.py:284 -- Task status [SUCCESSFUL]\t[run_1@__main__.one]\n",
      "\u001b[2m\u001b[36m(_workflow_task_executor_remote pid=400)\u001b[0m 2022-10-11 20:15:27,167\tINFO task_executor.py:78 -- Task status [RUNNING]\t[run_1@__main__.one]\n"
     ]
    },
    {
     "data": {
      "text/plain": [
       "101"
      ]
     },
     "execution_count": 5,
     "metadata": {},
     "output_type": "execute_result"
    },
    {
     "name": "stderr",
     "output_type": "stream",
     "text": [
      "\u001b[2m\u001b[36m(WorkflowManagementActor pid=369)\u001b[0m 2022-10-11 20:15:27,175\tINFO workflow_executor.py:284 -- Task status [SUCCESSFUL]\t[run_1@__main__.add]\n",
      "\u001b[2m\u001b[36m(WorkflowManagementActor pid=369)\u001b[0m 2022-10-11 20:15:27,177\tINFO workflow_executor.py:122 -- Workflow 'run_1' completes successfully.\n",
      "\u001b[2m\u001b[36m(_workflow_task_executor_remote pid=400)\u001b[0m 2022-10-11 20:15:27,173\tINFO task_executor.py:78 -- Task status [RUNNING]\t[run_1@__main__.add]\n"
     ]
    }
   ],
   "source": [
    "workflow.run(dag, workflow_id=\"run_1\")"
   ]
  },
  {
   "cell_type": "code",
   "execution_count": 6,
   "metadata": {},
   "outputs": [
    {
     "name": "stderr",
     "output_type": "stream",
     "text": [
      "2022-10-11 20:16:37,070\tINFO api.py:203 -- Workflow job created. [id=\"run_1b\"].\n",
      "\u001b[2m\u001b[36m(WorkflowManagementActor pid=369)\u001b[0m 2022-10-11 20:16:37,094\tINFO workflow_executor.py:86 -- Workflow job [id=run_1b] started.\n",
      "\u001b[2m\u001b[36m(WorkflowManagementActor pid=369)\u001b[0m 2022-10-11 20:16:37,099\tINFO workflow_executor.py:284 -- Task status [SUCCESSFUL]\t[run_1b@__main__.one]\n",
      "\u001b[2m\u001b[36m(WorkflowManagementActor pid=369)\u001b[0m 2022-10-11 20:16:37,104\tINFO workflow_executor.py:284 -- Task status [SUCCESSFUL]\t[run_1b@__main__.add]\n",
      "\u001b[2m\u001b[36m(WorkflowManagementActor pid=369)\u001b[0m 2022-10-11 20:16:37,118\tINFO workflow_executor.py:122 -- Workflow 'run_1b' completes successfully.\n",
      "\u001b[2m\u001b[36m(_workflow_task_executor_remote pid=400)\u001b[0m 2022-10-11 20:16:37,097\tINFO task_executor.py:78 -- Task status [RUNNING]\t[run_1b@__main__.one]\n",
      "\u001b[2m\u001b[36m(_workflow_task_executor_remote pid=400)\u001b[0m 2022-10-11 20:16:37,101\tINFO task_executor.py:78 -- Task status [RUNNING]\t[run_1b@__main__.add]\n"
     ]
    }
   ],
   "source": [
    "out_ref = workflow.run_async(dag, workflow_id=\"run_1b\")"
   ]
  },
  {
   "cell_type": "code",
   "execution_count": 7,
   "metadata": {},
   "outputs": [
    {
     "data": {
      "text/plain": [
       "101"
      ]
     },
     "execution_count": 7,
     "metadata": {},
     "output_type": "execute_result"
    }
   ],
   "source": [
    "ray.get(out_ref)"
   ]
  },
  {
   "cell_type": "code",
   "execution_count": 8,
   "metadata": {},
   "outputs": [
    {
     "name": "stderr",
     "output_type": "stream",
     "text": [
      "2022-10-11 20:17:28,243\tINFO api.py:203 -- Workflow job created. [id=\"run_2\"].\n"
     ]
    },
    {
     "data": {
      "text/plain": [
       "True"
      ]
     },
     "execution_count": 8,
     "metadata": {},
     "output_type": "execute_result"
    },
    {
     "name": "stderr",
     "output_type": "stream",
     "text": [
      "\u001b[2m\u001b[36m(WorkflowManagementActor pid=369)\u001b[0m 2022-10-11 20:17:28,267\tINFO workflow_executor.py:86 -- Workflow job [id=run_2] started.\n",
      "\u001b[2m\u001b[36m(WorkflowManagementActor pid=369)\u001b[0m 2022-10-11 20:17:28,271\tINFO workflow_executor.py:284 -- Task status [SUCCESSFUL]\t[run_2@__main__.one]\n",
      "\u001b[2m\u001b[36m(WorkflowManagementActor pid=369)\u001b[0m 2022-10-11 20:17:28,275\tINFO workflow_executor.py:284 -- Task status [SUCCESSFUL]\t[run_2@__main__.add]\n",
      "\u001b[2m\u001b[36m(WorkflowManagementActor pid=369)\u001b[0m 2022-10-11 20:17:28,277\tINFO workflow_executor.py:122 -- Workflow 'run_2' completes successfully.\n",
      "\u001b[2m\u001b[36m(_workflow_task_executor_remote pid=400)\u001b[0m 2022-10-11 20:17:28,269\tINFO task_executor.py:78 -- Task status [RUNNING]\t[run_2@__main__.one]\n",
      "\u001b[2m\u001b[36m(_workflow_task_executor_remote pid=400)\u001b[0m 2022-10-11 20:17:28,273\tINFO task_executor.py:78 -- Task status [RUNNING]\t[run_2@__main__.add]\n"
     ]
    }
   ],
   "source": [
    "workflow.run(dag, workflow_id=\"run_2\") == 101"
   ]
  },
  {
   "cell_type": "code",
   "execution_count": 9,
   "metadata": {},
   "outputs": [],
   "source": [
    "assert workflow.get_status(\"run_2\") == workflow.WorkflowStatus.SUCCESSFUL\n",
    "assert workflow.get_output(\"run_2\") == 101\n",
    "# workflow.get_output_async returns an ObjectRef.\n",
    "assert ray.get(workflow.get_output_async(\"run_2\")) == 101"
   ]
  },
  {
   "cell_type": "code",
   "execution_count": 10,
   "metadata": {},
   "outputs": [],
   "source": [
    "# New workflow"
   ]
  },
  {
   "cell_type": "code",
   "execution_count": 11,
   "metadata": {},
   "outputs": [],
   "source": [
    "@ray.remote\n",
    "def hello():\n",
    "    return \"Hello\"\n",
    "\n",
    "@ray.remote\n",
    "def words():\n",
    "    return [hello.remote(), ray.put(\"world\")]\n",
    "\n",
    "@ray.remote\n",
    "def concat(words):\n",
    "    return \" \".join([ray.get(w) for w in words])"
   ]
  },
  {
   "cell_type": "code",
   "execution_count": 12,
   "metadata": {},
   "outputs": [
    {
     "name": "stderr",
     "output_type": "stream",
     "text": [
      "2022-10-11 20:17:37,871\tINFO api.py:203 -- Workflow job created. [id=\"run_3\"].\n",
      "\u001b[2m\u001b[36m(WorkflowManagementActor pid=369)\u001b[0m 2022-10-11 20:17:37,900\tINFO workflow_executor.py:86 -- Workflow job [id=run_3] started.\n",
      "\u001b[2m\u001b[36m(_workflow_task_executor_remote pid=400)\u001b[0m 2022-10-11 20:17:37,904\tINFO task_executor.py:78 -- Task status [RUNNING]\t[run_3@__main__.words]\n"
     ]
    },
    {
     "data": {
      "text/plain": [
       "'Hello world'"
      ]
     },
     "execution_count": 12,
     "metadata": {},
     "output_type": "execute_result"
    },
    {
     "name": "stderr",
     "output_type": "stream",
     "text": [
      "\u001b[2m\u001b[36m(WorkflowManagementActor pid=369)\u001b[0m 2022-10-11 20:17:39,029\tINFO workflow_executor.py:284 -- Task status [SUCCESSFUL]\t[run_3@__main__.words]\n",
      "\u001b[2m\u001b[36m(WorkflowManagementActor pid=369)\u001b[0m 2022-10-11 20:17:39,035\tINFO workflow_executor.py:284 -- Task status [SUCCESSFUL]\t[run_3@__main__.concat]\n",
      "\u001b[2m\u001b[36m(WorkflowManagementActor pid=369)\u001b[0m 2022-10-11 20:17:39,037\tINFO workflow_executor.py:122 -- Workflow 'run_3' completes successfully.\n",
      "\u001b[2m\u001b[36m(_workflow_task_executor_remote pid=400)\u001b[0m 2022-10-11 20:17:39,033\tINFO task_executor.py:78 -- Task status [RUNNING]\t[run_3@__main__.concat]\n"
     ]
    }
   ],
   "source": [
    "workflow.run(concat.bind(words.bind()), workflow_id=\"run_3\")"
   ]
  },
  {
   "cell_type": "code",
   "execution_count": 13,
   "metadata": {},
   "outputs": [],
   "source": [
    "@ray.remote\n",
    "def add(a: int, b: int) -> int:\n",
    "    return a + b\n",
    "\n",
    "@ray.remote\n",
    "def fib(n: int) -> int:\n",
    "    if n <= 1:\n",
    "        return n\n",
    "    # return a continuation of a DAG\n",
    "    return workflow.continuation(add.bind(fib.bind(n - 1), fib.bind(n - 2)))"
   ]
  },
  {
   "cell_type": "code",
   "execution_count": null,
   "metadata": {},
   "outputs": [],
   "source": [
    "# current does not work with clusters https://docs.ray.io/en/latest/workflows/advanced.html\n",
    "# assert workflow.run(fib.bind(10), workflow_id=\"run_4\") == 55"
   ]
  },
  {
   "cell_type": "code",
   "execution_count": 15,
   "metadata": {},
   "outputs": [],
   "source": [
    "@ray.remote\n",
    "def read_data(num):\n",
    "    return [i for i in range(num)]\n",
    "\n",
    "@ray.remote\n",
    "def preprocess(data):\n",
    "    return [d**2 for d in data]\n",
    "\n",
    "@ray.remote\n",
    "def agg(data):\n",
    "    return sum(data)"
   ]
  },
  {
   "cell_type": "code",
   "execution_count": 16,
   "metadata": {},
   "outputs": [],
   "source": [
    "data = read_data.bind(10)\n",
    "preprocessed_data = preprocess.bind(data)\n",
    "agg_data = agg.bind(preprocessed_data)"
   ]
  },
  {
   "cell_type": "code",
   "execution_count": 17,
   "metadata": {},
   "outputs": [],
   "source": [
    "#needs https://graphviz.gitlab.io/download/ installed into image.\n",
    "#ray.dag.vis_utils.plot(agg_data, \"output.jpg\")"
   ]
  },
  {
   "cell_type": "code",
   "execution_count": 18,
   "metadata": {},
   "outputs": [
    {
     "name": "stderr",
     "output_type": "stream",
     "text": [
      "2022-10-11 20:19:05,279\tINFO api.py:203 -- Workflow job created. [id=\"run_5\"].\n"
     ]
    },
    {
     "name": "stdout",
     "output_type": "stream",
     "text": [
      "285\n"
     ]
    },
    {
     "name": "stderr",
     "output_type": "stream",
     "text": [
      "\u001b[2m\u001b[36m(WorkflowManagementActor pid=369)\u001b[0m 2022-10-11 20:19:05,308\tINFO workflow_executor.py:86 -- Workflow job [id=run_5] started.\n",
      "\u001b[2m\u001b[36m(WorkflowManagementActor pid=369)\u001b[0m 2022-10-11 20:19:05,319\tINFO workflow_executor.py:284 -- Task status [SUCCESSFUL]\t[run_5@__main__.read_data]\n",
      "\u001b[2m\u001b[36m(WorkflowManagementActor pid=369)\u001b[0m 2022-10-11 20:19:05,324\tINFO workflow_executor.py:284 -- Task status [SUCCESSFUL]\t[run_5@__main__.preprocess]\n",
      "\u001b[2m\u001b[36m(WorkflowManagementActor pid=369)\u001b[0m 2022-10-11 20:19:05,328\tINFO workflow_executor.py:284 -- Task status [SUCCESSFUL]\t[run_5@__main__.agg]\n",
      "\u001b[2m\u001b[36m(WorkflowManagementActor pid=369)\u001b[0m 2022-10-11 20:19:05,331\tINFO workflow_executor.py:122 -- Workflow 'run_5' completes successfully.\n",
      "\u001b[2m\u001b[36m(_workflow_task_executor_remote pid=400)\u001b[0m 2022-10-11 20:19:05,317\tINFO task_executor.py:78 -- Task status [RUNNING]\t[run_5@__main__.read_data]\n",
      "\u001b[2m\u001b[36m(_workflow_task_executor_remote pid=400)\u001b[0m 2022-10-11 20:19:05,322\tINFO task_executor.py:78 -- Task status [RUNNING]\t[run_5@__main__.preprocess]\n",
      "\u001b[2m\u001b[36m(_workflow_task_executor_remote pid=400)\u001b[0m 2022-10-11 20:19:05,327\tINFO task_executor.py:78 -- Task status [RUNNING]\t[run_5@__main__.agg]\n"
     ]
    }
   ],
   "source": [
    "print(workflow.run(agg_data, workflow_id=\"run_5\"))"
   ]
  },
  {
   "cell_type": "code",
   "execution_count": 19,
   "metadata": {},
   "outputs": [
    {
     "name": "stderr",
     "output_type": "stream",
     "text": [
      "2022-10-11 20:19:07,851\tINFO api.py:203 -- Workflow job created. [id=\"run_6\"].\n",
      "\u001b[2m\u001b[36m(WorkflowManagementActor pid=369)\u001b[0m 2022-10-11 20:19:07,876\tINFO workflow_executor.py:86 -- Workflow job [id=run_6] started.\n",
      "\u001b[2m\u001b[36m(WorkflowManagementActor pid=369)\u001b[0m 2022-10-11 20:19:07,880\tINFO workflow_executor.py:284 -- Task status [SUCCESSFUL]\t[run_6@__main__.read_data]\n",
      "\u001b[2m\u001b[36m(WorkflowManagementActor pid=369)\u001b[0m 2022-10-11 20:19:07,884\tINFO workflow_executor.py:284 -- Task status [SUCCESSFUL]\t[run_6@__main__.preprocess]\n",
      "\u001b[2m\u001b[36m(WorkflowManagementActor pid=369)\u001b[0m 2022-10-11 20:19:07,888\tINFO workflow_executor.py:284 -- Task status [SUCCESSFUL]\t[run_6@__main__.agg]\n",
      "\u001b[2m\u001b[36m(WorkflowManagementActor pid=369)\u001b[0m 2022-10-11 20:19:07,890\tINFO workflow_executor.py:122 -- Workflow 'run_6' completes successfully.\n",
      "\u001b[2m\u001b[36m(_workflow_task_executor_remote pid=400)\u001b[0m 2022-10-11 20:19:07,879\tINFO task_executor.py:78 -- Task status [RUNNING]\t[run_6@__main__.read_data]\n",
      "\u001b[2m\u001b[36m(_workflow_task_executor_remote pid=400)\u001b[0m 2022-10-11 20:19:07,883\tINFO task_executor.py:78 -- Task status [RUNNING]\t[run_6@__main__.preprocess]\n",
      "\u001b[2m\u001b[36m(_workflow_task_executor_remote pid=400)\u001b[0m 2022-10-11 20:19:07,886\tINFO task_executor.py:78 -- Task status [RUNNING]\t[run_6@__main__.agg]\n"
     ]
    }
   ],
   "source": [
    "out_ref = workflow.run_async(agg_data, workflow_id=\"run_6\")"
   ]
  },
  {
   "cell_type": "code",
   "execution_count": 20,
   "metadata": {},
   "outputs": [
    {
     "name": "stdout",
     "output_type": "stream",
     "text": [
      "285\n"
     ]
    }
   ],
   "source": [
    "print(ray.get(out_ref))"
   ]
  },
  {
   "cell_type": "code",
   "execution_count": 21,
   "metadata": {},
   "outputs": [
    {
     "data": {
      "text/plain": [
       "<WorkflowStatus.SUCCESSFUL: 'SUCCESSFUL'>"
      ]
     },
     "execution_count": 21,
     "metadata": {},
     "output_type": "execute_result"
    }
   ],
   "source": [
    "workflow.get_status(workflow_id=\"run_6\")\n"
   ]
  },
  {
   "cell_type": "code",
   "execution_count": 22,
   "metadata": {},
   "outputs": [],
   "source": [
    "workflow.delete(workflow_id=\"run_6\")"
   ]
  },
  {
   "cell_type": "code",
   "execution_count": 23,
   "metadata": {},
   "outputs": [
    {
     "data": {
      "text/plain": [
       "[('run_1', <WorkflowStatus.SUCCESSFUL: 'SUCCESSFUL'>),\n",
       " ('run_1b', <WorkflowStatus.SUCCESSFUL: 'SUCCESSFUL'>),\n",
       " ('run_2', <WorkflowStatus.SUCCESSFUL: 'SUCCESSFUL'>),\n",
       " ('run_3', <WorkflowStatus.SUCCESSFUL: 'SUCCESSFUL'>),\n",
       " ('run_5', <WorkflowStatus.SUCCESSFUL: 'SUCCESSFUL'>),\n",
       " ('run_4', <WorkflowStatus.FAILED: 'FAILED'>)]"
      ]
     },
     "execution_count": 23,
     "metadata": {},
     "output_type": "execute_result"
    }
   ],
   "source": [
    "workflow.list_all()"
   ]
  },
  {
   "cell_type": "code",
   "execution_count": 24,
   "metadata": {},
   "outputs": [],
   "source": [
    "workflow_metadata = workflow.get_metadata(\"run_5\")"
   ]
  },
  {
   "cell_type": "code",
   "execution_count": 25,
   "metadata": {},
   "outputs": [
    {
     "data": {
      "text/plain": [
       "{'status': 'SUCCESSFUL',\n",
       " 'user_metadata': {},\n",
       " 'stats': {'start_time': 1665519545.307062, 'end_time': 1665519545.3309364}}"
      ]
     },
     "execution_count": 25,
     "metadata": {},
     "output_type": "execute_result"
    }
   ],
   "source": [
    "workflow_metadata"
   ]
  },
  {
   "cell_type": "code",
   "execution_count": 26,
   "metadata": {},
   "outputs": [],
   "source": [
    "event1_task = workflow.wait_for_event(workflow.event_listener.TimerListener, time.time()+ 60)\n",
    "event2_task = workflow.wait_for_event(workflow.event_listener.TimerListener, time.time() +30)\n",
    "\n",
    "@ray.remote\n",
    "def gather(*args):\n",
    "    return args"
   ]
  },
  {
   "cell_type": "code",
   "execution_count": 27,
   "metadata": {},
   "outputs": [
    {
     "name": "stderr",
     "output_type": "stream",
     "text": [
      "2022-10-11 20:19:32,730\tINFO api.py:203 -- Workflow job created. [id=\"gather\"].\n",
      "\u001b[2m\u001b[36m(_workflow_task_executor_remote pid=233, ip=10.128.4.36)\u001b[0m 2022-10-11 20:19:32,765\tINFO task_executor.py:78 -- Task status [RUNNING]\t[gather@ray.workflow.api.wait_for_event.locals.get_message_1]\n",
      "\u001b[2m\u001b[36m(WorkflowManagementActor pid=369)\u001b[0m 2022-10-11 20:19:32,758\tINFO workflow_executor.py:86 -- Workflow job [id=gather] started.\n",
      "\u001b[2m\u001b[36m(_workflow_task_executor_remote pid=400)\u001b[0m 2022-10-11 20:19:32,761\tINFO task_executor.py:78 -- Task status [RUNNING]\t[gather@ray.workflow.api.wait_for_event.locals.get_message]\n",
      "\u001b[2m\u001b[36m(WorkflowManagementActor pid=369)\u001b[0m 2022-10-11 20:20:01,774\tINFO workflow_executor.py:284 -- Task status [SUCCESSFUL]\t[gather@ray.workflow.api.wait_for_event.locals.get_message_1]\n",
      "\u001b[2m\u001b[36m(WorkflowManagementActor pid=369)\u001b[0m 2022-10-11 20:20:02,820\tINFO workflow_executor.py:284 -- Task status [SUCCESSFUL]\t[gather@ray.workflow.api.wait_for_event.locals.message_committed_1]\n",
      "\u001b[2m\u001b[36m(_workflow_task_executor_remote pid=233, ip=10.128.4.36)\u001b[0m 2022-10-11 20:20:02,818\tINFO task_executor.py:78 -- Task status [RUNNING]\t[gather@ray.workflow.api.wait_for_event.locals.message_committed_1]\n"
     ]
    },
    {
     "data": {
      "text/plain": [
       "(None, None)"
      ]
     },
     "execution_count": 27,
     "metadata": {},
     "output_type": "execute_result"
    }
   ],
   "source": [
    "workflow.run(gather.bind(event1_task,event2_task), workflow_id=\"gather\")"
   ]
  },
  {
   "cell_type": "code",
   "execution_count": 28,
   "metadata": {},
   "outputs": [
    {
     "name": "stderr",
     "output_type": "stream",
     "text": [
      "Log channel is reconnecting. Logs produced while the connection was down can be found on the head node of the cluster in `ray_client_server_[port].out`\n",
      "2022-10-11 20:20:34,287\tWARNING dataclient.py:395 -- Encountered connection issues in the data channel. Attempting to reconnect.\n"
     ]
    },
    {
     "name": "stdout",
     "output_type": "stream",
     "text": [
      "done\n"
     ]
    },
    {
     "name": "stderr",
     "output_type": "stream",
     "text": [
      "2022-10-11 20:21:04,502\tWARNING dataclient.py:402 -- Failed to reconnect the data channel\n"
     ]
    }
   ],
   "source": [
    "stop_ray_cluster()"
   ]
  }
 ],
 "metadata": {
  "kernelspec": {
   "display_name": "Python 3 (ipykernel)",
   "language": "python",
   "name": "python3"
  },
  "language_info": {
   "codemirror_mode": {
    "name": "ipython",
    "version": 3
   },
   "file_extension": ".py",
   "mimetype": "text/x-python",
   "name": "python",
   "nbconvert_exporter": "python",
   "pygments_lexer": "ipython3",
   "version": "3.8.12"
  },
  "vscode": {
   "interpreter": {
    "hash": "e34450d332bd313b8f818cb5ed04e25933b13de9c0d7b662ddcaf48d79a536f1"
   }
  }
 },
 "nbformat": 4,
 "nbformat_minor": 4
}
