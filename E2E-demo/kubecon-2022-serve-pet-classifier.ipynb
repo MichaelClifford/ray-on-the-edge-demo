{
 "cells": [
  {
   "cell_type": "code",
   "execution_count": 1,
   "id": "f8240623-f21d-4422-bf17-ed054c4c69b9",
   "metadata": {},
   "outputs": [],
   "source": [
    "#https://docs.ray.io/en/latest/serve/tutorials/pytorch.html"
   ]
  },
  {
   "cell_type": "code",
   "execution_count": 2,
   "id": "bcd2984d-1c90-4543-9631-4b4c0b3d7a07",
   "metadata": {},
   "outputs": [],
   "source": [
    "import os \n",
    "import time\n",
    "import requests\n",
    "from io import BytesIO\n",
    "from PIL import Image\n",
    "\n",
    "import ray\n",
    "from ray import serve\n",
    "\n",
    "import torch\n",
    "import torchvision\n",
    "from torchvision.transforms import ToTensor, Resize,Compose, ToPILImage\n",
    "from ray_cluster_control import start_ray_cluster, stop_ray_cluster"
   ]
  },
  {
   "cell_type": "code",
   "execution_count": null,
   "id": "2b03ab5b-c671-43b1-8823-0f22a18a5a30",
   "metadata": {},
   "outputs": [],
   "source": [
    "# this function is idempotent\n",
    "start_ray_cluster(\"kubecon-2022\")"
   ]
  },
  {
   "cell_type": "code",
   "execution_count": null,
   "id": "7919e148-bae4-4f1d-b503-11826fc30cff",
   "metadata": {},
   "outputs": [],
   "source": [
    "@serve.deployment(route_prefix=\"/image_predict\",\n",
    "                  name=\"pet_image\",\n",
    "                  ray_actor_options={\"num_gpus\": 1})\n",
    "class ImageModel:\n",
    "\n",
    "    def __init__(self):\n",
    "        self.model = torch.jit.load(\"best_model_scripted.pt\", \n",
    "                                    map_location=torch.device('cuda:0'))\n",
    "        self.preprocessor = Compose([Resize((64,64)),\n",
    "                                     ToTensor()])\n",
    "\n",
    "    async def __call__(self, starlette_request):\n",
    "        image_payload_bytes = await starlette_request.body()\n",
    "        pil_image = Image.open(BytesIO(image_payload_bytes))\n",
    "\n",
    "        pil_images = [pil_image]\n",
    "        input_tensor = torch.cat([self.preprocessor(i) for i in pil_images])\n",
    "        input_tensor = torch.reshape(input_tensor, (1,3,64,64))\n",
    "        with torch.no_grad():\n",
    "            output_tensor = self.model(input_tensor.to(\"cuda\"))\n",
    "\n",
    "        return int(torch.argmax(output_tensor[0]))"
   ]
  },
  {
   "cell_type": "code",
   "execution_count": null,
   "id": "d56b24be-72e4-4047-a80d-7699db739adf",
   "metadata": {},
   "outputs": [],
   "source": [
    "ray.init('ray://{ray_head}-ray-head:10001'.format(ray_head=os.environ['RAY_CLUSTER_NAME']),\n",
    "         runtime_env={\"working_dir\": \"models/\"},\n",
    "         _metrics_export_port=8080)"
   ]
  },
  {
   "cell_type": "code",
   "execution_count": null,
   "id": "801a0667-c7a8-4c02-9fef-30e13d5708c9",
   "metadata": {},
   "outputs": [],
   "source": [
    "nodes = ray.nodes()\n",
    "for node in nodes:\n",
    "    if 'head' in node[\"NodeManagerHostname\"]:\n",
    "         host = node[\"NodeManagerAddress\"]\n",
    "print(host)"
   ]
  },
  {
   "cell_type": "code",
   "execution_count": null,
   "id": "6e24fa60-e953-47ea-a834-099f675e40ad",
   "metadata": {},
   "outputs": [],
   "source": [
    "serve.start(http_options={\"host\":host})"
   ]
  },
  {
   "cell_type": "code",
   "execution_count": null,
   "id": "6a44a887-2a5e-44e4-b205-7360b442201d",
   "metadata": {},
   "outputs": [],
   "source": [
    "ImageModel.deploy()"
   ]
  },
  {
   "cell_type": "code",
   "execution_count": null,
   "id": "52151fee-9b32-4518-9b4d-2d4292653736",
   "metadata": {},
   "outputs": [],
   "source": [
    "with open(\"data/oxford-iiit-pet/images/Abyssinian_22.jpg\", \"rb\") as image:\n",
    "    f = image.read()\n",
    "    b = bytearray(f)\n",
    "\n",
    "Image.open(BytesIO(b))"
   ]
  },
  {
   "cell_type": "code",
   "execution_count": null,
   "id": "a64de413-83ec-4204-a3f0-2dac5e9541f5",
   "metadata": {},
   "outputs": [],
   "source": [
    "resp = requests.post(f\"http://{host}:8000/image_predict\", data=b)\n",
    "print(f\"Predicted Class: {resp.json()}\")"
   ]
  },
  {
   "cell_type": "code",
   "execution_count": null,
   "id": "9dadf1b6-60dc-4fd6-a2e5-6bed5d9588a8",
   "metadata": {},
   "outputs": [],
   "source": [
    "external_route = f\"http://{os.environ['SERVING_ENDPOINT']}/image_predict\"\n",
    "resp = requests.post(external_route, data=b)\n",
    "print(f\"Predicted Class: {resp.json()}\")"
   ]
  },
  {
   "cell_type": "code",
   "execution_count": null,
   "id": "1029afca-26c6-4e94-8168-44aff1191049",
   "metadata": {},
   "outputs": [],
   "source": [
    "#stop_ray_cluster()"
   ]
  },
  {
   "cell_type": "code",
   "execution_count": null,
   "id": "53b76093-c09c-4eac-970d-fe5587c4ceb2",
   "metadata": {},
   "outputs": [],
   "source": []
  }
 ],
 "metadata": {
  "kernelspec": {
   "display_name": "Python 3 (ipykernel)",
   "language": "python",
   "name": "python3"
  },
  "language_info": {
   "codemirror_mode": {
    "name": "ipython",
    "version": 3
   },
   "file_extension": ".py",
   "mimetype": "text/x-python",
   "name": "python",
   "nbconvert_exporter": "python",
   "pygments_lexer": "ipython3",
   "version": "3.8.12"
  }
 },
 "nbformat": 4,
 "nbformat_minor": 5
}
