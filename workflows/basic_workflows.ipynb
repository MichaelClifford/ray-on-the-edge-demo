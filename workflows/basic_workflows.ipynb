{
 "cells": [
  {
   "cell_type": "markdown",
   "metadata": {},
   "source": [
    "https://docs.ray.io/en/latest/workflows/index.html"
   ]
  },
  {
   "cell_type": "code",
   "execution_count": 1,
   "metadata": {},
   "outputs": [],
   "source": [
    "import time\n",
    "import ray\n",
    "from ray import workflow"
   ]
  },
  {
   "cell_type": "code",
   "execution_count": 2,
   "metadata": {},
   "outputs": [
    {
     "name": "stderr",
     "output_type": "stream",
     "text": [
      "2022-10-10 15:31:55,855\tINFO worker.py:1515 -- Started a local Ray instance. View the dashboard at \u001b[1m\u001b[32mhttp://127.0.0.1:8265 \u001b[39m\u001b[22m\n"
     ]
    },
    {
     "data": {
      "text/html": [
       "<div>\n",
       "    <div style=\"margin-left: 50px;display: flex;flex-direction: row;align-items: center\">\n",
       "        <h3 style=\"color: var(--jp-ui-font-color0)\">Ray</h3>\n",
       "        <svg version=\"1.1\" id=\"ray\" width=\"3em\" viewBox=\"0 0 144.5 144.6\" style=\"margin-left: 3em;margin-right: 3em\">\n",
       "            <g id=\"layer-1\">\n",
       "                <path fill=\"#00a2e9\" class=\"st0\" d=\"M97.3,77.2c-3.8-1.1-6.2,0.9-8.3,5.1c-3.5,6.8-9.9,9.9-17.4,9.6S58,88.1,54.8,81.2c-1.4-3-3-4-6.3-4.1\n",
       "                    c-5.6-0.1-9.9,0.1-13.1,6.4c-3.8,7.6-13.6,10.2-21.8,7.6C5.2,88.4-0.4,80.5,0,71.7c0.1-8.4,5.7-15.8,13.8-18.2\n",
       "                    c8.4-2.6,17.5,0.7,22.3,8c1.3,1.9,1.3,5.2,3.6,5.6c3.9,0.6,8,0.2,12,0.2c1.8,0,1.9-1.6,2.4-2.8c3.5-7.8,9.7-11.8,18-11.9\n",
       "                    c8.2-0.1,14.4,3.9,17.8,11.4c1.3,2.8,2.9,3.6,5.7,3.3c1-0.1,2,0.1,3,0c2.8-0.5,6.4,1.7,8.1-2.7s-2.3-5.5-4.1-7.5\n",
       "                    c-5.1-5.7-10.9-10.8-16.1-16.3C84,38,81.9,37.1,78,38.3C66.7,42,56.2,35.7,53,24.1C50.3,14,57.3,2.8,67.7,0.5\n",
       "                    C78.4-2,89,4.7,91.5,15.3c0.1,0.3,0.1,0.5,0.2,0.8c0.7,3.4,0.7,6.9-0.8,9.8c-1.7,3.2-0.8,5,1.5,7.2c6.7,6.5,13.3,13,19.8,19.7\n",
       "                    c1.8,1.8,3,2.1,5.5,1.2c9.1-3.4,17.9-0.6,23.4,7c4.8,6.9,4.6,16.1-0.4,22.9c-5.4,7.2-14.2,9.9-23.1,6.5c-2.3-0.9-3.5-0.6-5.1,1.1\n",
       "                    c-6.7,6.9-13.6,13.7-20.5,20.4c-1.8,1.8-2.5,3.2-1.4,5.9c3.5,8.7,0.3,18.6-7.7,23.6c-7.9,5-18.2,3.8-24.8-2.9\n",
       "                    c-6.4-6.4-7.4-16.2-2.5-24.3c4.9-7.8,14.5-11,23.1-7.8c3,1.1,4.7,0.5,6.9-1.7C91.7,98.4,98,92.3,104.2,86c1.6-1.6,4.1-2.7,2.6-6.2\n",
       "                    c-1.4-3.3-3.8-2.5-6.2-2.6C99.8,77.2,98.9,77.2,97.3,77.2z M72.1,29.7c5.5,0.1,9.9-4.3,10-9.8c0-0.1,0-0.2,0-0.3\n",
       "                    C81.8,14,77,9.8,71.5,10.2c-5,0.3-9,4.2-9.3,9.2c-0.2,5.5,4,10.1,9.5,10.3C71.8,29.7,72,29.7,72.1,29.7z M72.3,62.3\n",
       "                    c-5.4-0.1-9.9,4.2-10.1,9.7c0,0.2,0,0.3,0,0.5c0.2,5.4,4.5,9.7,9.9,10c5.1,0.1,9.9-4.7,10.1-9.8c0.2-5.5-4-10-9.5-10.3\n",
       "                    C72.6,62.3,72.4,62.3,72.3,62.3z M115,72.5c0.1,5.4,4.5,9.7,9.8,9.9c5.6-0.2,10-4.8,10-10.4c-0.2-5.4-4.6-9.7-10-9.7\n",
       "                    c-5.3-0.1-9.8,4.2-9.9,9.5C115,72.1,115,72.3,115,72.5z M19.5,62.3c-5.4,0.1-9.8,4.4-10,9.8c-0.1,5.1,5.2,10.4,10.2,10.3\n",
       "                    c5.6-0.2,10-4.9,9.8-10.5c-0.1-5.4-4.5-9.7-9.9-9.6C19.6,62.3,19.5,62.3,19.5,62.3z M71.8,134.6c5.9,0.2,10.3-3.9,10.4-9.6\n",
       "                    c0.5-5.5-3.6-10.4-9.1-10.8c-5.5-0.5-10.4,3.6-10.8,9.1c0,0.5,0,0.9,0,1.4c-0.2,5.3,4,9.8,9.3,10\n",
       "                    C71.6,134.6,71.7,134.6,71.8,134.6z\"/>\n",
       "            </g>\n",
       "        </svg>\n",
       "        <table>\n",
       "            <tr>\n",
       "                <td style=\"text-align: left\"><b>Python version:</b></td>\n",
       "                <td style=\"text-align: left\"><b>3.7.13</b></td>\n",
       "            </tr>\n",
       "            <tr>\n",
       "                <td style=\"text-align: left\"><b>Ray version:</b></td>\n",
       "                <td style=\"text-align: left\"><b> 2.0.0</b></td>\n",
       "            </tr>\n",
       "            <tr>\n",
       "    <td style=\"text-align: left\"><b>Dashboard:</b></td>\n",
       "    <td style=\"text-align: left\"><b><a href=\"http://127.0.0.1:8265\" target=\"_blank\">http://127.0.0.1:8265</a></b></td>\n",
       "</tr>\n",
       "\n",
       "        </table>\n",
       "    </div>\n",
       "</div>\n"
      ],
      "text/plain": [
       "RayContext(dashboard_url='127.0.0.1:8265', python_version='3.7.13', ray_version='2.0.0', ray_commit='cba26cc83f6b5b8a2ff166594a65cb74c0ec8740', address_info={'node_ip_address': '192.168.1.81', 'raylet_ip_address': '192.168.1.81', 'redis_address': None, 'object_store_address': '/tmp/ray/session_2022-10-10_15-31-39_481975_979468/sockets/plasma_store', 'raylet_socket_name': '/tmp/ray/session_2022-10-10_15-31-39_481975_979468/sockets/raylet', 'webui_url': '127.0.0.1:8265', 'session_dir': '/tmp/ray/session_2022-10-10_15-31-39_481975_979468', 'metrics_export_port': 55442, 'gcs_address': '192.168.1.81:50349', 'address': '192.168.1.81:50349', 'dashboard_agent_listen_port': 52365, 'node_id': '074c6d052a98e05bb74590a4a0bd0c068151c3259fb4ce5eaaa6526d'})"
      ]
     },
     "execution_count": 2,
     "metadata": {},
     "output_type": "execute_result"
    }
   ],
   "source": [
    "# needs fix for pvc\n",
    "ray.init(storage=\"/ray-on-the-edge-demo/workflows/tmp/\")"
   ]
  },
  {
   "cell_type": "code",
   "execution_count": 3,
   "metadata": {},
   "outputs": [],
   "source": [
    "@ray.remote\n",
    "def one() -> int:\n",
    "    return 1\n",
    "\n",
    "@ray.remote\n",
    "def add(a: int, b: int) -> int:\n",
    "    return a + b\n",
    "\n",
    "dag = add.bind(100, one.bind())"
   ]
  },
  {
   "cell_type": "code",
   "execution_count": 4,
   "metadata": {},
   "outputs": [
    {
     "name": "stderr",
     "output_type": "stream",
     "text": [
      "2022-10-10 15:31:57,388\tINFO workflow_access.py:356 -- Initializing workflow manager...\n",
      "2022-10-10 15:31:59,536\tINFO api.py:203 -- Workflow job created. [id=\"run_1\"].\n",
      "2022-10-10 15:31:59,539\tINFO api.py:279 -- Resuming workflow [id=\"run_1\"].\n",
      "2022-10-10 15:31:59,644\tINFO api.py:292 -- Workflow job run_1 resumed.\n"
     ]
    },
    {
     "data": {
      "text/plain": [
       "101"
      ]
     },
     "execution_count": 4,
     "metadata": {},
     "output_type": "execute_result"
    }
   ],
   "source": [
    "workflow.run(dag, workflow_id=\"run_1\")"
   ]
  },
  {
   "cell_type": "code",
   "execution_count": 5,
   "metadata": {},
   "outputs": [
    {
     "name": "stderr",
     "output_type": "stream",
     "text": [
      "\u001b[2m\u001b[36m(WorkflowManagementActor pid=984165)\u001b[0m 2022-10-10 15:31:59,647\tINFO workflow_executor.py:86 -- Workflow job [id=run_1] started.\n",
      "\u001b[2m\u001b[36m(WorkflowManagementActor pid=984165)\u001b[0m 2022-10-10 15:31:59,650\tINFO workflow_executor.py:122 -- Workflow 'run_1' completes successfully.\n",
      "2022-10-10 15:31:59,733\tINFO api.py:203 -- Workflow job created. [id=\"2f6fc67c-2679-4a19-a5a1-21edfa3d6d9e.1665430319.717717409\"].\n"
     ]
    }
   ],
   "source": [
    "out_ref = workflow.run_async(dag)"
   ]
  },
  {
   "cell_type": "code",
   "execution_count": 6,
   "metadata": {},
   "outputs": [
    {
     "name": "stderr",
     "output_type": "stream",
     "text": [
      "\u001b[2m\u001b[36m(WorkflowManagementActor pid=984165)\u001b[0m 2022-10-10 15:31:59,760\tINFO workflow_executor.py:86 -- Workflow job [id=2f6fc67c-2679-4a19-a5a1-21edfa3d6d9e.1665430319.717717409] started.\n",
      "\u001b[2m\u001b[36m(WorkflowManagementActor pid=984165)\u001b[0m 2022-10-10 15:31:59,775\tINFO workflow_executor.py:285 -- Task status [SUCCESSFUL]\t[2f6fc67c-2679-4a19-a5a1-21edfa3d6d9e.1665430319.717717409@__main__.one]\n",
      "\u001b[2m\u001b[36m(_workflow_task_executor_remote pid=983871)\u001b[0m 2022-10-10 15:31:59,773\tINFO task_executor.py:78 -- Task status [RUNNING]\t[2f6fc67c-2679-4a19-a5a1-21edfa3d6d9e.1665430319.717717409@__main__.one]\n",
      "\u001b[2m\u001b[36m(_workflow_task_executor_remote pid=983871)\u001b[0m 2022-10-10 15:31:59,781\tINFO task_executor.py:78 -- Task status [RUNNING]\t[2f6fc67c-2679-4a19-a5a1-21edfa3d6d9e.1665430319.717717409@__main__.add]\n",
      "\u001b[2m\u001b[36m(WorkflowManagementActor pid=984165)\u001b[0m 2022-10-10 15:31:59,785\tINFO workflow_executor.py:285 -- Task status [SUCCESSFUL]\t[2f6fc67c-2679-4a19-a5a1-21edfa3d6d9e.1665430319.717717409@__main__.add]\n"
     ]
    },
    {
     "data": {
      "text/plain": [
       "101"
      ]
     },
     "execution_count": 6,
     "metadata": {},
     "output_type": "execute_result"
    }
   ],
   "source": [
    "ray.get(out_ref)"
   ]
  },
  {
   "cell_type": "code",
   "execution_count": 7,
   "metadata": {},
   "outputs": [
    {
     "name": "stderr",
     "output_type": "stream",
     "text": [
      "\u001b[2m\u001b[36m(WorkflowManagementActor pid=984165)\u001b[0m 2022-10-10 15:31:59,789\tINFO workflow_executor.py:122 -- Workflow '2f6fc67c-2679-4a19-a5a1-21edfa3d6d9e.1665430319.717717409' completes successfully.\n",
      "2022-10-10 15:31:59,927\tINFO api.py:203 -- Workflow job created. [id=\"run_2\"].\n",
      "2022-10-10 15:31:59,929\tINFO api.py:279 -- Resuming workflow [id=\"run_2\"].\n",
      "2022-10-10 15:31:59,947\tINFO api.py:292 -- Workflow job run_2 resumed.\n"
     ]
    },
    {
     "data": {
      "text/plain": [
       "True"
      ]
     },
     "execution_count": 7,
     "metadata": {},
     "output_type": "execute_result"
    }
   ],
   "source": [
    "workflow.run(dag, workflow_id=\"run_2\") == 101"
   ]
  },
  {
   "cell_type": "code",
   "execution_count": 8,
   "metadata": {},
   "outputs": [
    {
     "name": "stderr",
     "output_type": "stream",
     "text": [
      "\u001b[2m\u001b[36m(WorkflowManagementActor pid=984165)\u001b[0m 2022-10-10 15:31:59,952\tINFO workflow_executor.py:86 -- Workflow job [id=run_2] started.\n",
      "\u001b[2m\u001b[36m(WorkflowManagementActor pid=984165)\u001b[0m 2022-10-10 15:31:59,954\tINFO workflow_executor.py:122 -- Workflow 'run_2' completes successfully.\n"
     ]
    }
   ],
   "source": [
    "assert workflow.get_status(\"run_2\") == workflow.WorkflowStatus.SUCCESSFUL\n",
    "assert workflow.get_output(\"run_2\") == 101\n",
    "# workflow.get_output_async returns an ObjectRef.\n",
    "assert ray.get(workflow.get_output_async(\"run_2\")) == 101"
   ]
  },
  {
   "cell_type": "code",
   "execution_count": 9,
   "metadata": {},
   "outputs": [],
   "source": [
    "# New workflow"
   ]
  },
  {
   "cell_type": "code",
   "execution_count": 10,
   "metadata": {},
   "outputs": [],
   "source": [
    "@ray.remote\n",
    "def hello():\n",
    "    return \"Hello\"\n",
    "\n",
    "@ray.remote\n",
    "def words():\n",
    "    return [hello.remote(), ray.put(\"world\")]\n",
    "\n",
    "@ray.remote\n",
    "def concat(words):\n",
    "    return \" \".join([ray.get(w) for w in words])"
   ]
  },
  {
   "cell_type": "code",
   "execution_count": 11,
   "metadata": {},
   "outputs": [
    {
     "name": "stderr",
     "output_type": "stream",
     "text": [
      "2022-10-10 15:32:00,458\tINFO api.py:203 -- Workflow job created. [id=\"run_3\"].\n",
      "2022-10-10 15:32:00,461\tINFO api.py:279 -- Resuming workflow [id=\"run_3\"].\n",
      "2022-10-10 15:32:00,476\tINFO api.py:292 -- Workflow job run_3 resumed.\n"
     ]
    },
    {
     "data": {
      "text/plain": [
       "'Hello world'"
      ]
     },
     "execution_count": 11,
     "metadata": {},
     "output_type": "execute_result"
    }
   ],
   "source": [
    "workflow.run(concat.bind(words.bind()), workflow_id=\"run_3\")"
   ]
  },
  {
   "cell_type": "code",
   "execution_count": 12,
   "metadata": {},
   "outputs": [
    {
     "name": "stderr",
     "output_type": "stream",
     "text": [
      "\u001b[2m\u001b[36m(WorkflowManagementActor pid=984165)\u001b[0m 2022-10-10 15:32:00,483\tINFO workflow_executor.py:86 -- Workflow job [id=run_3] started.\n",
      "\u001b[2m\u001b[36m(WorkflowManagementActor pid=984165)\u001b[0m 2022-10-10 15:32:00,487\tINFO workflow_executor.py:122 -- Workflow 'run_3' completes successfully.\n"
     ]
    }
   ],
   "source": [
    "@ray.remote\n",
    "def add(a: int, b: int) -> int:\n",
    "    return a + b\n",
    "\n",
    "@ray.remote\n",
    "def fib(n: int) -> int:\n",
    "    if n <= 1:\n",
    "        return n\n",
    "    # return a continuation of a DAG\n",
    "    return workflow.continuation(add.bind(fib.bind(n - 1), fib.bind(n - 2)))"
   ]
  },
  {
   "cell_type": "code",
   "execution_count": 13,
   "metadata": {},
   "outputs": [
    {
     "name": "stderr",
     "output_type": "stream",
     "text": [
      "2022-10-10 15:32:00,659\tINFO api.py:203 -- Workflow job created. [id=\"run_4\"].\n",
      "2022-10-10 15:32:00,662\tINFO api.py:279 -- Resuming workflow [id=\"run_4\"].\n",
      "2022-10-10 15:32:00,680\tINFO api.py:292 -- Workflow job run_4 resumed.\n"
     ]
    }
   ],
   "source": [
    "\n",
    "assert workflow.run(fib.bind(10), workflow_id=\"run_4\") == 55"
   ]
  },
  {
   "cell_type": "code",
   "execution_count": 14,
   "metadata": {},
   "outputs": [
    {
     "name": "stderr",
     "output_type": "stream",
     "text": [
      "\u001b[2m\u001b[36m(WorkflowManagementActor pid=984165)\u001b[0m 2022-10-10 15:32:00,683\tINFO workflow_executor.py:86 -- Workflow job [id=run_4] started.\n",
      "\u001b[2m\u001b[36m(WorkflowManagementActor pid=984165)\u001b[0m 2022-10-10 15:32:00,688\tINFO workflow_executor.py:122 -- Workflow 'run_4' completes successfully.\n"
     ]
    }
   ],
   "source": [
    "@ray.remote\n",
    "def read_data(num):\n",
    "    return [i for i in range(num)]\n",
    "\n",
    "@ray.remote\n",
    "def preprocess(data):\n",
    "    return [d**2 for d in data]\n",
    "\n",
    "@ray.remote\n",
    "def agg(data):\n",
    "    return sum(data)"
   ]
  },
  {
   "cell_type": "code",
   "execution_count": 15,
   "metadata": {},
   "outputs": [],
   "source": [
    "data = read_data.bind(10)\n",
    "preprocessed_data = preprocess.bind(data)\n",
    "agg_data = agg.bind(preprocessed_data)"
   ]
  },
  {
   "cell_type": "code",
   "execution_count": 16,
   "metadata": {},
   "outputs": [
    {
     "data": {
      "image/jpeg": "[encoded data removed]",
      "text/plain": [
       "<IPython.core.display.Image object>"
      ]
     },
     "execution_count": 16,
     "metadata": {},
     "output_type": "execute_result"
    }
   ],
   "source": [
    "ray.dag.vis_utils.plot(agg_data, \"output.jpg\")"
   ]
  },
  {
   "cell_type": "code",
   "execution_count": 17,
   "metadata": {},
   "outputs": [
    {
     "name": "stderr",
     "output_type": "stream",
     "text": [
      "2022-10-10 15:32:01,472\tINFO api.py:203 -- Workflow job created. [id=\"run_5\"].\n",
      "2022-10-10 15:32:01,479\tINFO api.py:279 -- Resuming workflow [id=\"run_5\"].\n",
      "2022-10-10 15:32:01,578\tINFO api.py:292 -- Workflow job run_5 resumed.\n"
     ]
    },
    {
     "name": "stdout",
     "output_type": "stream",
     "text": [
      "285\n"
     ]
    }
   ],
   "source": [
    "print(workflow.run(agg_data, workflow_id=\"run_5\"))"
   ]
  },
  {
   "cell_type": "code",
   "execution_count": 18,
   "metadata": {},
   "outputs": [
    {
     "name": "stderr",
     "output_type": "stream",
     "text": [
      "\u001b[2m\u001b[36m(WorkflowManagementActor pid=984165)\u001b[0m 2022-10-10 15:32:01,645\tINFO workflow_executor.py:86 -- Workflow job [id=run_5] started.\n",
      "\u001b[2m\u001b[36m(WorkflowManagementActor pid=984165)\u001b[0m 2022-10-10 15:32:01,657\tINFO workflow_executor.py:122 -- Workflow 'run_5' completes successfully.\n",
      "2022-10-10 15:32:01,781\tINFO api.py:203 -- Workflow job created. [id=\"run_6\"].\n"
     ]
    }
   ],
   "source": [
    "out_ref = workflow.run_async(agg_data, workflow_id=\"run_6\")"
   ]
  },
  {
   "cell_type": "code",
   "execution_count": 19,
   "metadata": {},
   "outputs": [
    {
     "name": "stdout",
     "output_type": "stream",
     "text": [
      "285\n"
     ]
    }
   ],
   "source": [
    "print(ray.get(out_ref))"
   ]
  },
  {
   "cell_type": "code",
   "execution_count": 20,
   "metadata": {},
   "outputs": [
    {
     "data": {
      "text/plain": [
       "<WorkflowStatus.SUCCESSFUL: 'SUCCESSFUL'>"
      ]
     },
     "execution_count": 20,
     "metadata": {},
     "output_type": "execute_result"
    }
   ],
   "source": [
    "workflow.get_status(workflow_id=\"run_6\")\n"
   ]
  },
  {
   "cell_type": "code",
   "execution_count": 21,
   "metadata": {},
   "outputs": [],
   "source": [
    "workflow.delete(workflow_id=\"run_6\")"
   ]
  },
  {
   "cell_type": "code",
   "execution_count": 22,
   "metadata": {},
   "outputs": [
    {
     "data": {
      "text/plain": [
       "[('eeadcb5c-d37d-4558-82b3-1ccf56e98a2c.1665415129.552226305',\n",
       "  <WorkflowStatus.SUCCESSFUL: 'SUCCESSFUL'>),\n",
       " ('5b4dbd56-b275-48f9-9c33-b6ae59fda78e.1665415617.249259472',\n",
       "  <WorkflowStatus.SUCCESSFUL: 'SUCCESSFUL'>),\n",
       " ('9b3f4314-fb2e-4542-b80d-d72c6afd26eb.1665428557.474726915',\n",
       "  <WorkflowStatus.SUCCESSFUL: 'SUCCESSFUL'>),\n",
       " ('gather', <WorkflowStatus.SUCCESSFUL: 'SUCCESSFUL'>),\n",
       " ('run_1', <WorkflowStatus.SUCCESSFUL: 'SUCCESSFUL'>),\n",
       " ('2f6fc67c-2679-4a19-a5a1-21edfa3d6d9e.1665430319.717717409',\n",
       "  <WorkflowStatus.SUCCESSFUL: 'SUCCESSFUL'>),\n",
       " ('run_2', <WorkflowStatus.SUCCESSFUL: 'SUCCESSFUL'>),\n",
       " ('run_3', <WorkflowStatus.SUCCESSFUL: 'SUCCESSFUL'>),\n",
       " ('run_4', <WorkflowStatus.SUCCESSFUL: 'SUCCESSFUL'>),\n",
       " ('run_5', <WorkflowStatus.SUCCESSFUL: 'SUCCESSFUL'>)]"
      ]
     },
     "execution_count": 22,
     "metadata": {},
     "output_type": "execute_result"
    }
   ],
   "source": [
    "workflow.list_all()"
   ]
  },
  {
   "cell_type": "code",
   "execution_count": 23,
   "metadata": {},
   "outputs": [],
   "source": [
    "workflow_metadata = workflow.get_metadata(\"run_5\")"
   ]
  },
  {
   "cell_type": "code",
   "execution_count": 24,
   "metadata": {},
   "outputs": [
    {
     "data": {
      "text/plain": [
       "{'status': 'SUCCESSFUL',\n",
       " 'user_metadata': {},\n",
       " 'stats': {'start_time': 1665430321.6257722, 'end_time': 1665430321.656522}}"
      ]
     },
     "execution_count": 24,
     "metadata": {},
     "output_type": "execute_result"
    }
   ],
   "source": [
    "workflow_metadata"
   ]
  },
  {
   "cell_type": "code",
   "execution_count": 25,
   "metadata": {},
   "outputs": [],
   "source": [
    "event1_task = workflow.wait_for_event(workflow.event_listener.TimerListener, time.time()+ 60)\n",
    "event2_task = workflow.wait_for_event(workflow.event_listener.TimerListener, time.time() +30)\n",
    "\n",
    "@ray.remote\n",
    "def gather(*args):\n",
    "    return args"
   ]
  },
  {
   "cell_type": "code",
   "execution_count": 26,
   "metadata": {},
   "outputs": [
    {
     "name": "stderr",
     "output_type": "stream",
     "text": [
      "2022-10-10 15:32:03,254\tINFO api.py:203 -- Workflow job created. [id=\"gather\"].\n",
      "2022-10-10 15:32:03,261\tINFO api.py:279 -- Resuming workflow [id=\"gather\"].\n",
      "2022-10-10 15:32:03,289\tINFO api.py:292 -- Workflow job gather resumed.\n"
     ]
    },
    {
     "data": {
      "text/plain": [
       "(None, None)"
      ]
     },
     "execution_count": 26,
     "metadata": {},
     "output_type": "execute_result"
    }
   ],
   "source": [
    "workflow.run(gather.bind(event1_task,event2_task), workflow_id=\"gather\")"
   ]
  },
  {
   "cell_type": "code",
   "execution_count": null,
   "metadata": {},
   "outputs": [],
   "source": [
    "ray.shutdown()"
   ]
  }
 ],
 "metadata": {
  "kernelspec": {
   "display_name": "Python 3.7.13 ('ray')",
   "language": "python",
   "name": "python3"
  },
  "language_info": {
   "codemirror_mode": {
    "name": "ipython",
    "version": 3
   },
   "file_extension": ".py",
   "mimetype": "text/x-python",
   "name": "python",
   "nbconvert_exporter": "python",
   "pygments_lexer": "ipython3",
   "version": "3.7.13"
  },
  "orig_nbformat": 4,
  "vscode": {
   "interpreter": {
    "hash": "e34450d332bd313b8f818cb5ed04e25933b13de9c0d7b662ddcaf48d79a536f1"
   }
  }
 },
 "nbformat": 4,
 "nbformat_minor": 2
}
